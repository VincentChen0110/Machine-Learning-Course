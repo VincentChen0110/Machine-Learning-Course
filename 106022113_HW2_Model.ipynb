{
  "nbformat": 4,
  "nbformat_minor": 0,
  "metadata": {
    "colab": {
      "name": "106022113_HW2_Model.ipynb",
      "provenance": []
    },
    "kernelspec": {
      "name": "python3",
      "display_name": "Python 3"
    }
  },
  "cells": [
    {
      "cell_type": "code",
      "metadata": {
        "id": "13au-35tDvd9"
      },
      "source": [
        "# data analysis and wrangling\n",
        "import pandas as pd\n",
        "import numpy as np\n",
        "import random as rnd\n",
        "from sklearn.model_selection import train_test_split\n",
        "# visualization\n",
        "import seaborn as sns\n",
        "import matplotlib.pyplot as plt\n",
        "%matplotlib inline\n",
        "\n",
        "# machine learning\n",
        "from sklearn.linear_model import LogisticRegression\n",
        "from sklearn.svm import SVC, LinearSVC\n",
        "from sklearn.ensemble import RandomForestClassifier\n",
        "from sklearn.neighbors import KNeighborsClassifier\n",
        "from sklearn.naive_bayes import GaussianNB\n",
        "from sklearn.linear_model import Perceptron\n",
        "from sklearn.linear_model import SGDClassifier\n",
        "from sklearn.tree import DecisionTreeClassifier\n",
        "# metrics\n",
        "from sklearn.metrics import confusion_matrix\n",
        "from sklearn.metrics import recall_score, precision_score\n",
        "from sklearn.model_selection import cross_val_score\n",
        "from sklearn.model_selection import cross_val_predict\n",
        "\n",
        "##\n",
        "from sklearn.feature_selection import SelectKBest, chi2\n",
        "from sklearn.feature_selection import f_classif\n",
        "from sklearn.metrics import classification_report"
      ],
      "execution_count": 7,
      "outputs": []
    },
    {
      "cell_type": "code",
      "metadata": {
        "id": "P9mvFnLeD5L8"
      },
      "source": [
        "test_in = pd.read_csv('/content/test_input_example.csv')\n",
        "test_out = pd.read_csv('/content/test_output_example.csv')\n",
        "full_test1 = [test_in,test_out]\n",
        "full_test = pd.concat(full_test1,axis = 1)\n",
        "full_test = full_test.drop(['admission_datetime','PATIENT ID'], axis=1)\n",
        "final_data = pd.read_csv(\"/content/fixed_test.csv\")"
      ],
      "execution_count": 137,
      "outputs": []
    },
    {
      "cell_type": "code",
      "metadata": {
        "id": "-kDdg4DDuIr6"
      },
      "source": [
        "final_id = final_data['PATIENT ID']"
      ],
      "execution_count": 138,
      "outputs": []
    },
    {
      "cell_type": "code",
      "metadata": {
        "id": "lloNqq4IEDYU"
      },
      "source": [
        "data = pd.read_csv('/content/hm_hospitales_covid_structured_30d_train.csv')\n",
        "y = pd.read_csv('/content/split_train_export_30d.csv')\n",
        "data_1 = [data,y]\n",
        "data_val = pd.concat(data_1,axis = 1)"
      ],
      "execution_count": 139,
      "outputs": []
    },
    {
      "cell_type": "code",
      "metadata": {
        "id": "kQW96tMGEGNU"
      },
      "source": [
        "title_mapping1 = {\"sx_breathing_difficulty\": 1, \"sx_cough\": 2, \"sx_fever\": 3, \"sx_flu\": 4, \"sx_others\": 5}\n",
        "title_mapping2 = {\"MALE\": 1,\"FEMALE\":0}\n",
        "data_val['ed_diagnosis'] = data_val['ed_diagnosis'].map(title_mapping1)\n",
        "full_test['ed_diagnosis'] = full_test['ed_diagnosis'].map(title_mapping1)\n",
        "final_data['ed_diagnosis'] = final_data['ed_diagnosis'].map(title_mapping1)\n",
        "data_val['sex'] = data_val['sex'].map(title_mapping2)\n",
        "full_test['sex'] = full_test['sex'].map(title_mapping2)\n",
        "final_data['sex'] = final_data['sex'].map(title_mapping2)\n",
        "data_val = data_val.drop(['admission_datetime','PATIENT ID'], axis=1)\n",
        "final_data = final_data.drop(['admission_datetime','PATIENT ID'], axis=1)\n"
      ],
      "execution_count": 140,
      "outputs": []
    },
    {
      "cell_type": "code",
      "metadata": {
        "id": "HvwrXPz0Enyg",
        "outputId": "da0ca47d-29f9-46e8-e0f8-8d7ee325edae",
        "colab": {
          "base_uri": "https://localhost:8080/",
          "height": 224
        }
      },
      "source": [
        "columns = list(data_val.columns)\n",
        "for (i,col) in zip(range(len(columns)),columns):\n",
        "  if data_val.iloc[:,i].isnull().values.any()== True:\n",
        "    data_val.iloc[:,i].fillna(data_val[col].median(), inplace = True)\n",
        "data_val.head()"
      ],
      "execution_count": 141,
      "outputs": [
        {
          "output_type": "execute_result",
          "data": {
            "text/html": [
              "<div>\n",
              "<style scoped>\n",
              "    .dataframe tbody tr th:only-of-type {\n",
              "        vertical-align: middle;\n",
              "    }\n",
              "\n",
              "    .dataframe tbody tr th {\n",
              "        vertical-align: top;\n",
              "    }\n",
              "\n",
              "    .dataframe thead th {\n",
              "        text-align: right;\n",
              "    }\n",
              "</style>\n",
              "<table border=\"1\" class=\"dataframe\">\n",
              "  <thead>\n",
              "    <tr style=\"text-align: right;\">\n",
              "      <th></th>\n",
              "      <th>age</th>\n",
              "      <th>sex</th>\n",
              "      <th>ed_diagnosis</th>\n",
              "      <th>vitals_temp_ed_first</th>\n",
              "      <th>vitals_sbp_ed_first</th>\n",
              "      <th>vitals_dbp_ed_first</th>\n",
              "      <th>vitals_hr_ed_first</th>\n",
              "      <th>vitals_spo2_ed_first</th>\n",
              "      <th>pmhx_diabetes</th>\n",
              "      <th>pmhx_hld</th>\n",
              "      <th>pmhx_htn</th>\n",
              "      <th>pmhx_ihd</th>\n",
              "      <th>pmhx_ckd</th>\n",
              "      <th>pmhx_copd</th>\n",
              "      <th>pmhx_asthma</th>\n",
              "      <th>pmhx_activecancer</th>\n",
              "      <th>pmhx_chronicliver</th>\n",
              "      <th>pmhx_stroke</th>\n",
              "      <th>pmhx_chf</th>\n",
              "      <th>pmhx_dementia</th>\n",
              "      <th>lab_aptt</th>\n",
              "      <th>lab_ldh</th>\n",
              "      <th>lab_sodium</th>\n",
              "      <th>lab_alt</th>\n",
              "      <th>lab_ddimer</th>\n",
              "      <th>lab_glucose</th>\n",
              "      <th>lab_potassium</th>\n",
              "      <th>lab_mch</th>\n",
              "      <th>lab_mean_platelet_volume</th>\n",
              "      <th>lab_inr</th>\n",
              "      <th>lab_hct</th>\n",
              "      <th>lab_creatinine</th>\n",
              "      <th>lab_ast</th>\n",
              "      <th>lab_crp</th>\n",
              "      <th>lab_mcv</th>\n",
              "      <th>lab_leukocyte</th>\n",
              "      <th>lab_lymphocyte_percentage</th>\n",
              "      <th>lab_prothrombin_activity</th>\n",
              "      <th>lab_urea</th>\n",
              "      <th>lab_rbc</th>\n",
              "      <th>lab_platelet</th>\n",
              "      <th>lab_neutrophil</th>\n",
              "      <th>lab_neutrophil_percentage</th>\n",
              "      <th>lab_lymphocyte</th>\n",
              "      <th>lab_rdw</th>\n",
              "      <th>lab_hemoglobin</th>\n",
              "      <th>hospital_outcome</th>\n",
              "    </tr>\n",
              "  </thead>\n",
              "  <tbody>\n",
              "    <tr>\n",
              "      <th>0</th>\n",
              "      <td>72</td>\n",
              "      <td>1</td>\n",
              "      <td>1</td>\n",
              "      <td>37.2</td>\n",
              "      <td>111.0</td>\n",
              "      <td>63.0</td>\n",
              "      <td>94.0</td>\n",
              "      <td>60.0</td>\n",
              "      <td>0.0</td>\n",
              "      <td>1.0</td>\n",
              "      <td>1.0</td>\n",
              "      <td>1.0</td>\n",
              "      <td>0.0</td>\n",
              "      <td>0.0</td>\n",
              "      <td>0.0</td>\n",
              "      <td>0.0</td>\n",
              "      <td>0.0</td>\n",
              "      <td>0.0</td>\n",
              "      <td>0.0</td>\n",
              "      <td>0.0</td>\n",
              "      <td>26.3</td>\n",
              "      <td>593.00</td>\n",
              "      <td>135.0</td>\n",
              "      <td>118.00</td>\n",
              "      <td>908.0</td>\n",
              "      <td>124.0</td>\n",
              "      <td>4.34</td>\n",
              "      <td>32.9</td>\n",
              "      <td>11.2</td>\n",
              "      <td>1.21</td>\n",
              "      <td>36.0</td>\n",
              "      <td>0.94</td>\n",
              "      <td>45.0</td>\n",
              "      <td>95.04</td>\n",
              "      <td>96.3</td>\n",
              "      <td>11.600</td>\n",
              "      <td>5.0</td>\n",
              "      <td>70.0</td>\n",
              "      <td>67.0</td>\n",
              "      <td>3.74</td>\n",
              "      <td>238.0</td>\n",
              "      <td>10.03</td>\n",
              "      <td>86.5</td>\n",
              "      <td>0.62</td>\n",
              "      <td>13.0</td>\n",
              "      <td>13.8</td>\n",
              "      <td>0</td>\n",
              "    </tr>\n",
              "    <tr>\n",
              "      <th>1</th>\n",
              "      <td>50</td>\n",
              "      <td>0</td>\n",
              "      <td>1</td>\n",
              "      <td>37.2</td>\n",
              "      <td>131.0</td>\n",
              "      <td>76.0</td>\n",
              "      <td>93.0</td>\n",
              "      <td>94.0</td>\n",
              "      <td>0.0</td>\n",
              "      <td>0.0</td>\n",
              "      <td>0.0</td>\n",
              "      <td>0.0</td>\n",
              "      <td>0.0</td>\n",
              "      <td>0.0</td>\n",
              "      <td>0.0</td>\n",
              "      <td>0.0</td>\n",
              "      <td>0.0</td>\n",
              "      <td>0.0</td>\n",
              "      <td>0.0</td>\n",
              "      <td>0.0</td>\n",
              "      <td>31.4</td>\n",
              "      <td>430.60</td>\n",
              "      <td>138.2</td>\n",
              "      <td>27.40</td>\n",
              "      <td>234.0</td>\n",
              "      <td>91.1</td>\n",
              "      <td>4.57</td>\n",
              "      <td>27.1</td>\n",
              "      <td>10.0</td>\n",
              "      <td>1.15</td>\n",
              "      <td>39.8</td>\n",
              "      <td>0.67</td>\n",
              "      <td>25.8</td>\n",
              "      <td>23.93</td>\n",
              "      <td>82.4</td>\n",
              "      <td>5.000</td>\n",
              "      <td>28.0</td>\n",
              "      <td>78.0</td>\n",
              "      <td>26.4</td>\n",
              "      <td>4.83</td>\n",
              "      <td>197.0</td>\n",
              "      <td>3.41</td>\n",
              "      <td>68.2</td>\n",
              "      <td>1.40</td>\n",
              "      <td>13.9</td>\n",
              "      <td>13.1</td>\n",
              "      <td>0</td>\n",
              "    </tr>\n",
              "    <tr>\n",
              "      <th>2</th>\n",
              "      <td>78</td>\n",
              "      <td>0</td>\n",
              "      <td>1</td>\n",
              "      <td>36.4</td>\n",
              "      <td>146.0</td>\n",
              "      <td>96.0</td>\n",
              "      <td>85.0</td>\n",
              "      <td>96.0</td>\n",
              "      <td>0.0</td>\n",
              "      <td>1.0</td>\n",
              "      <td>0.0</td>\n",
              "      <td>0.0</td>\n",
              "      <td>1.0</td>\n",
              "      <td>0.0</td>\n",
              "      <td>0.0</td>\n",
              "      <td>0.0</td>\n",
              "      <td>0.0</td>\n",
              "      <td>0.0</td>\n",
              "      <td>0.0</td>\n",
              "      <td>0.0</td>\n",
              "      <td>32.0</td>\n",
              "      <td>522.75</td>\n",
              "      <td>137.1</td>\n",
              "      <td>25.65</td>\n",
              "      <td>744.0</td>\n",
              "      <td>113.6</td>\n",
              "      <td>4.20</td>\n",
              "      <td>29.8</td>\n",
              "      <td>10.3</td>\n",
              "      <td>1.19</td>\n",
              "      <td>41.1</td>\n",
              "      <td>0.91</td>\n",
              "      <td>31.6</td>\n",
              "      <td>68.36</td>\n",
              "      <td>88.2</td>\n",
              "      <td>6.635</td>\n",
              "      <td>16.9</td>\n",
              "      <td>76.0</td>\n",
              "      <td>34.8</td>\n",
              "      <td>4.67</td>\n",
              "      <td>203.0</td>\n",
              "      <td>4.83</td>\n",
              "      <td>74.0</td>\n",
              "      <td>1.05</td>\n",
              "      <td>12.9</td>\n",
              "      <td>13.9</td>\n",
              "      <td>0</td>\n",
              "    </tr>\n",
              "    <tr>\n",
              "      <th>3</th>\n",
              "      <td>50</td>\n",
              "      <td>1</td>\n",
              "      <td>1</td>\n",
              "      <td>37.7</td>\n",
              "      <td>131.0</td>\n",
              "      <td>76.0</td>\n",
              "      <td>124.0</td>\n",
              "      <td>94.0</td>\n",
              "      <td>0.0</td>\n",
              "      <td>0.0</td>\n",
              "      <td>0.0</td>\n",
              "      <td>0.0</td>\n",
              "      <td>0.0</td>\n",
              "      <td>0.0</td>\n",
              "      <td>1.0</td>\n",
              "      <td>0.0</td>\n",
              "      <td>0.0</td>\n",
              "      <td>0.0</td>\n",
              "      <td>0.0</td>\n",
              "      <td>0.0</td>\n",
              "      <td>30.8</td>\n",
              "      <td>694.40</td>\n",
              "      <td>136.5</td>\n",
              "      <td>66.60</td>\n",
              "      <td>416.0</td>\n",
              "      <td>96.2</td>\n",
              "      <td>4.39</td>\n",
              "      <td>27.6</td>\n",
              "      <td>10.0</td>\n",
              "      <td>1.24</td>\n",
              "      <td>44.8</td>\n",
              "      <td>0.88</td>\n",
              "      <td>83.1</td>\n",
              "      <td>71.26</td>\n",
              "      <td>84.2</td>\n",
              "      <td>6.160</td>\n",
              "      <td>20.2</td>\n",
              "      <td>69.0</td>\n",
              "      <td>40.9</td>\n",
              "      <td>5.32</td>\n",
              "      <td>178.0</td>\n",
              "      <td>4.60</td>\n",
              "      <td>74.6</td>\n",
              "      <td>1.18</td>\n",
              "      <td>13.3</td>\n",
              "      <td>14.7</td>\n",
              "      <td>0</td>\n",
              "    </tr>\n",
              "    <tr>\n",
              "      <th>4</th>\n",
              "      <td>38</td>\n",
              "      <td>1</td>\n",
              "      <td>1</td>\n",
              "      <td>36.6</td>\n",
              "      <td>131.0</td>\n",
              "      <td>76.0</td>\n",
              "      <td>88.0</td>\n",
              "      <td>94.0</td>\n",
              "      <td>0.0</td>\n",
              "      <td>0.0</td>\n",
              "      <td>0.0</td>\n",
              "      <td>0.0</td>\n",
              "      <td>0.0</td>\n",
              "      <td>0.0</td>\n",
              "      <td>0.0</td>\n",
              "      <td>0.0</td>\n",
              "      <td>0.0</td>\n",
              "      <td>0.0</td>\n",
              "      <td>0.0</td>\n",
              "      <td>0.0</td>\n",
              "      <td>32.1</td>\n",
              "      <td>790.10</td>\n",
              "      <td>135.1</td>\n",
              "      <td>62.70</td>\n",
              "      <td>284.0</td>\n",
              "      <td>105.2</td>\n",
              "      <td>3.69</td>\n",
              "      <td>30.0</td>\n",
              "      <td>9.7</td>\n",
              "      <td>1.11</td>\n",
              "      <td>39.2</td>\n",
              "      <td>0.77</td>\n",
              "      <td>79.5</td>\n",
              "      <td>128.42</td>\n",
              "      <td>87.9</td>\n",
              "      <td>7.020</td>\n",
              "      <td>16.5</td>\n",
              "      <td>89.0</td>\n",
              "      <td>12.6</td>\n",
              "      <td>4.46</td>\n",
              "      <td>298.0</td>\n",
              "      <td>4.92</td>\n",
              "      <td>70.1</td>\n",
              "      <td>1.16</td>\n",
              "      <td>10.6</td>\n",
              "      <td>13.4</td>\n",
              "      <td>0</td>\n",
              "    </tr>\n",
              "  </tbody>\n",
              "</table>\n",
              "</div>"
            ],
            "text/plain": [
              "   age  sex  ed_diagnosis  ...  lab_rdw  lab_hemoglobin  hospital_outcome\n",
              "0   72    1             1  ...     13.0            13.8                 0\n",
              "1   50    0             1  ...     13.9            13.1                 0\n",
              "2   78    0             1  ...     12.9            13.9                 0\n",
              "3   50    1             1  ...     13.3            14.7                 0\n",
              "4   38    1             1  ...     10.6            13.4                 0\n",
              "\n",
              "[5 rows x 47 columns]"
            ]
          },
          "metadata": {
            "tags": []
          },
          "execution_count": 141
        }
      ]
    },
    {
      "cell_type": "code",
      "metadata": {
        "id": "dy1YkSifEs4I"
      },
      "source": [
        "X1_sample = full_test.drop(\"hospital_outcome\", axis=1)\n",
        "y1_sample = full_test['hospital_outcome']\n",
        "X = data_val.drop(\"hospital_outcome\", axis=1)\n",
        "y = data_val['hospital_outcome']\n",
        "X_train, X_test, y_train, y_test = train_test_split(X, y, test_size=0.3, random_state=42)"
      ],
      "execution_count": 142,
      "outputs": []
    },
    {
      "cell_type": "code",
      "metadata": {
        "id": "GM1OtVjyE3HG",
        "outputId": "e3f70f8d-3592-45f4-da6c-4b778563187e",
        "colab": {
          "base_uri": "https://localhost:8080/"
        }
      },
      "source": [
        "new_col = list(data_val.columns)\n",
        "fs = SelectKBest(score_func=f_classif, k='all')\n",
        "fs.fit(X, y)\n",
        "#X_train_fs = fs.transform(X_train)\n",
        "#X_test_fs = fs.transform(X_test)\n",
        "drop_list = []\n",
        "for i in range(len(fs.scores_)):\n",
        "  print(new_col[i],'Feature %d: %f' % (i, fs.scores_[i]))\n",
        "  if (fs.scores_[i] < 5 ) :\n",
        "    #print(new_col[i],' needs to be dropped!!!!')\n",
        "    drop_list.append(new_col[i])\n",
        "data_val = data_val.drop(drop_list, axis=1)\n",
        "full_test = full_test.drop(drop_list, axis=1)\n",
        "final_data = final_data.drop(drop_list, axis=1)"
      ],
      "execution_count": 143,
      "outputs": [
        {
          "output_type": "stream",
          "text": [
            "age Feature 0: 244.188164\n",
            "sex Feature 1: 8.003169\n",
            "ed_diagnosis Feature 2: 0.002782\n",
            "vitals_temp_ed_first Feature 3: 0.009485\n",
            "vitals_sbp_ed_first Feature 4: 1.082865\n",
            "vitals_dbp_ed_first Feature 5: 4.700089\n",
            "vitals_hr_ed_first Feature 6: 0.199576\n",
            "vitals_spo2_ed_first Feature 7: 167.396801\n",
            "pmhx_diabetes Feature 8: 11.223117\n",
            "pmhx_hld Feature 9: 6.254769\n",
            "pmhx_htn Feature 10: 9.293561\n",
            "pmhx_ihd Feature 11: 15.883852\n",
            "pmhx_ckd Feature 12: 21.898125\n",
            "pmhx_copd Feature 13: 14.063111\n",
            "pmhx_asthma Feature 14: 0.387873\n",
            "pmhx_activecancer Feature 15: 13.189400\n",
            "pmhx_chronicliver Feature 16: 5.524476\n",
            "pmhx_stroke Feature 17: 21.677858\n",
            "pmhx_chf Feature 18: 10.024505\n",
            "pmhx_dementia Feature 19: 40.107067\n",
            "lab_aptt Feature 20: 0.420109\n",
            "lab_ldh Feature 21: 97.081321\n",
            "lab_sodium Feature 22: 42.439504\n",
            "lab_alt Feature 23: 0.816220\n",
            "lab_ddimer Feature 24: 32.409382\n",
            "lab_glucose Feature 25: 50.594079\n",
            "lab_potassium Feature 26: 9.528075\n",
            "lab_mch Feature 27: 7.759471\n",
            "lab_mean_platelet_volume Feature 28: 13.224878\n",
            "lab_inr Feature 29: 21.787281\n",
            "lab_hct Feature 30: 1.393444\n",
            "lab_creatinine Feature 31: 81.697564\n",
            "lab_ast Feature 32: 12.533180\n",
            "lab_crp Feature 33: 98.198560\n",
            "lab_mcv Feature 34: 57.695891\n",
            "lab_leukocyte Feature 35: 75.065303\n",
            "lab_lymphocyte_percentage Feature 36: 109.549707\n",
            "lab_prothrombin_activity Feature 37: 21.786650\n",
            "lab_urea Feature 38: 209.875939\n",
            "lab_rbc Feature 39: 16.006486\n",
            "lab_platelet Feature 40: 6.395457\n",
            "lab_neutrophil Feature 41: 111.185289\n",
            "lab_neutrophil_percentage Feature 42: 109.831673\n",
            "lab_lymphocyte Feature 43: 4.943114\n",
            "lab_rdw Feature 44: 43.419190\n",
            "lab_hemoglobin Feature 45: 9.914055\n"
          ],
          "name": "stdout"
        }
      ]
    },
    {
      "cell_type": "code",
      "metadata": {
        "id": "rudOGsIHeqH5",
        "outputId": "9df6318e-1a97-4bdd-d9f3-0bcbe4ca9a8b",
        "colab": {
          "base_uri": "https://localhost:8080/",
          "height": 131
        }
      },
      "source": [
        "correlated = pd.DataFrame(columns=['features','correlated_scores'])\n",
        "correlated.features = new_col[:46]\n",
        "correlated.correlated_scores = fs.scores_\n",
        "correlated = correlated.transpose()\n",
        "correlated"
      ],
      "execution_count": 144,
      "outputs": [
        {
          "output_type": "execute_result",
          "data": {
            "text/html": [
              "<div>\n",
              "<style scoped>\n",
              "    .dataframe tbody tr th:only-of-type {\n",
              "        vertical-align: middle;\n",
              "    }\n",
              "\n",
              "    .dataframe tbody tr th {\n",
              "        vertical-align: top;\n",
              "    }\n",
              "\n",
              "    .dataframe thead th {\n",
              "        text-align: right;\n",
              "    }\n",
              "</style>\n",
              "<table border=\"1\" class=\"dataframe\">\n",
              "  <thead>\n",
              "    <tr style=\"text-align: right;\">\n",
              "      <th></th>\n",
              "      <th>0</th>\n",
              "      <th>1</th>\n",
              "      <th>2</th>\n",
              "      <th>3</th>\n",
              "      <th>4</th>\n",
              "      <th>5</th>\n",
              "      <th>6</th>\n",
              "      <th>7</th>\n",
              "      <th>8</th>\n",
              "      <th>9</th>\n",
              "      <th>10</th>\n",
              "      <th>11</th>\n",
              "      <th>12</th>\n",
              "      <th>13</th>\n",
              "      <th>14</th>\n",
              "      <th>15</th>\n",
              "      <th>16</th>\n",
              "      <th>17</th>\n",
              "      <th>18</th>\n",
              "      <th>19</th>\n",
              "      <th>20</th>\n",
              "      <th>21</th>\n",
              "      <th>22</th>\n",
              "      <th>23</th>\n",
              "      <th>24</th>\n",
              "      <th>25</th>\n",
              "      <th>26</th>\n",
              "      <th>27</th>\n",
              "      <th>28</th>\n",
              "      <th>29</th>\n",
              "      <th>30</th>\n",
              "      <th>31</th>\n",
              "      <th>32</th>\n",
              "      <th>33</th>\n",
              "      <th>34</th>\n",
              "      <th>35</th>\n",
              "      <th>36</th>\n",
              "      <th>37</th>\n",
              "      <th>38</th>\n",
              "      <th>39</th>\n",
              "      <th>40</th>\n",
              "      <th>41</th>\n",
              "      <th>42</th>\n",
              "      <th>43</th>\n",
              "      <th>44</th>\n",
              "      <th>45</th>\n",
              "    </tr>\n",
              "  </thead>\n",
              "  <tbody>\n",
              "    <tr>\n",
              "      <th>features</th>\n",
              "      <td>age</td>\n",
              "      <td>sex</td>\n",
              "      <td>ed_diagnosis</td>\n",
              "      <td>vitals_temp_ed_first</td>\n",
              "      <td>vitals_sbp_ed_first</td>\n",
              "      <td>vitals_dbp_ed_first</td>\n",
              "      <td>vitals_hr_ed_first</td>\n",
              "      <td>vitals_spo2_ed_first</td>\n",
              "      <td>pmhx_diabetes</td>\n",
              "      <td>pmhx_hld</td>\n",
              "      <td>pmhx_htn</td>\n",
              "      <td>pmhx_ihd</td>\n",
              "      <td>pmhx_ckd</td>\n",
              "      <td>pmhx_copd</td>\n",
              "      <td>pmhx_asthma</td>\n",
              "      <td>pmhx_activecancer</td>\n",
              "      <td>pmhx_chronicliver</td>\n",
              "      <td>pmhx_stroke</td>\n",
              "      <td>pmhx_chf</td>\n",
              "      <td>pmhx_dementia</td>\n",
              "      <td>lab_aptt</td>\n",
              "      <td>lab_ldh</td>\n",
              "      <td>lab_sodium</td>\n",
              "      <td>lab_alt</td>\n",
              "      <td>lab_ddimer</td>\n",
              "      <td>lab_glucose</td>\n",
              "      <td>lab_potassium</td>\n",
              "      <td>lab_mch</td>\n",
              "      <td>lab_mean_platelet_volume</td>\n",
              "      <td>lab_inr</td>\n",
              "      <td>lab_hct</td>\n",
              "      <td>lab_creatinine</td>\n",
              "      <td>lab_ast</td>\n",
              "      <td>lab_crp</td>\n",
              "      <td>lab_mcv</td>\n",
              "      <td>lab_leukocyte</td>\n",
              "      <td>lab_lymphocyte_percentage</td>\n",
              "      <td>lab_prothrombin_activity</td>\n",
              "      <td>lab_urea</td>\n",
              "      <td>lab_rbc</td>\n",
              "      <td>lab_platelet</td>\n",
              "      <td>lab_neutrophil</td>\n",
              "      <td>lab_neutrophil_percentage</td>\n",
              "      <td>lab_lymphocyte</td>\n",
              "      <td>lab_rdw</td>\n",
              "      <td>lab_hemoglobin</td>\n",
              "    </tr>\n",
              "    <tr>\n",
              "      <th>correlated_scores</th>\n",
              "      <td>244.188</td>\n",
              "      <td>8.00317</td>\n",
              "      <td>0.00278171</td>\n",
              "      <td>0.00948491</td>\n",
              "      <td>1.08286</td>\n",
              "      <td>4.70009</td>\n",
              "      <td>0.199576</td>\n",
              "      <td>167.397</td>\n",
              "      <td>11.2231</td>\n",
              "      <td>6.25477</td>\n",
              "      <td>9.29356</td>\n",
              "      <td>15.8839</td>\n",
              "      <td>21.8981</td>\n",
              "      <td>14.0631</td>\n",
              "      <td>0.387873</td>\n",
              "      <td>13.1894</td>\n",
              "      <td>5.52448</td>\n",
              "      <td>21.6779</td>\n",
              "      <td>10.0245</td>\n",
              "      <td>40.1071</td>\n",
              "      <td>0.420109</td>\n",
              "      <td>97.0813</td>\n",
              "      <td>42.4395</td>\n",
              "      <td>0.81622</td>\n",
              "      <td>32.4094</td>\n",
              "      <td>50.5941</td>\n",
              "      <td>9.52808</td>\n",
              "      <td>7.75947</td>\n",
              "      <td>13.2249</td>\n",
              "      <td>21.7873</td>\n",
              "      <td>1.39344</td>\n",
              "      <td>81.6976</td>\n",
              "      <td>12.5332</td>\n",
              "      <td>98.1986</td>\n",
              "      <td>57.6959</td>\n",
              "      <td>75.0653</td>\n",
              "      <td>109.55</td>\n",
              "      <td>21.7866</td>\n",
              "      <td>209.876</td>\n",
              "      <td>16.0065</td>\n",
              "      <td>6.39546</td>\n",
              "      <td>111.185</td>\n",
              "      <td>109.832</td>\n",
              "      <td>4.94311</td>\n",
              "      <td>43.4192</td>\n",
              "      <td>9.91406</td>\n",
              "    </tr>\n",
              "  </tbody>\n",
              "</table>\n",
              "</div>"
            ],
            "text/plain": [
              "                        0        1   ...       44              45\n",
              "features               age      sex  ...  lab_rdw  lab_hemoglobin\n",
              "correlated_scores  244.188  8.00317  ...  43.4192         9.91406\n",
              "\n",
              "[2 rows x 46 columns]"
            ]
          },
          "metadata": {
            "tags": []
          },
          "execution_count": 144
        }
      ]
    },
    {
      "cell_type": "code",
      "metadata": {
        "id": "IYSWCWtLg6Py",
        "outputId": "12f16aa8-9d57-4cc0-8722-5cd60fced9f4",
        "colab": {
          "base_uri": "https://localhost:8080/"
        }
      },
      "source": [
        "drop_list"
      ],
      "execution_count": 145,
      "outputs": [
        {
          "output_type": "execute_result",
          "data": {
            "text/plain": [
              "['ed_diagnosis',\n",
              " 'vitals_temp_ed_first',\n",
              " 'vitals_sbp_ed_first',\n",
              " 'vitals_dbp_ed_first',\n",
              " 'vitals_hr_ed_first',\n",
              " 'pmhx_asthma',\n",
              " 'lab_aptt',\n",
              " 'lab_alt',\n",
              " 'lab_hct',\n",
              " 'lab_lymphocyte']"
            ]
          },
          "metadata": {
            "tags": []
          },
          "execution_count": 145
        }
      ]
    },
    {
      "cell_type": "code",
      "metadata": {
        "id": "Gt7p_sn0E57C"
      },
      "source": [
        "X1_sample = full_test.drop(\"hospital_outcome\", axis=1)\n",
        "y1_sample = full_test['hospital_outcome']\n",
        "X = data_val.drop(\"hospital_outcome\", axis=1)\n",
        "y = data_val['hospital_outcome']\n",
        "X_train, X_test, y_train, y_test = train_test_split(X, y, test_size=0.3, random_state=42,stratify = y)\n",
        "full_train1 = [X_train,y_train]\n",
        "full_train = pd.concat(full_train1,axis = 1)\n",
        "#X_train = X[:1400]\n",
        "#X_test = X[1400:1800]\n",
        "#y_train = y[:1400]\n",
        "#y_test = y[1400:1800]"
      ],
      "execution_count": 146,
      "outputs": []
    },
    {
      "cell_type": "code",
      "metadata": {
        "id": "QlYzNZzSFBMq",
        "outputId": "1534b43f-f81c-407e-88b5-ea8ccf9798a4",
        "colab": {
          "base_uri": "https://localhost:8080/"
        }
      },
      "source": [
        "from sklearn.ensemble import GradientBoostingClassifier\n",
        "\n",
        "clf = GradientBoostingClassifier(random_state=0)\n",
        "clf.fit(X_train, y_train)\n",
        "Y_pred = clf.predict(X_test)\n",
        "print(confusion_matrix(y_test, Y_pred))\n",
        "print(precision_score(y_test, Y_pred))\n",
        "print(recall_score(y_test, Y_pred))\n",
        "clf.score(X_train,y_train)\n",
        "print(classification_report(y_test, Y_pred))"
      ],
      "execution_count": 147,
      "outputs": [
        {
          "output_type": "stream",
          "text": [
            "[[462  12]\n",
            " [ 50  27]]\n",
            "0.6923076923076923\n",
            "0.35064935064935066\n",
            "              precision    recall  f1-score   support\n",
            "\n",
            "           0       0.90      0.97      0.94       474\n",
            "           1       0.69      0.35      0.47        77\n",
            "\n",
            "    accuracy                           0.89       551\n",
            "   macro avg       0.80      0.66      0.70       551\n",
            "weighted avg       0.87      0.89      0.87       551\n",
            "\n"
          ],
          "name": "stdout"
        }
      ]
    },
    {
      "cell_type": "code",
      "metadata": {
        "id": "XKt4pHsKeHz1",
        "outputId": "f11828fe-f30f-4095-bb8f-7c29355a45b9",
        "colab": {
          "base_uri": "https://localhost:8080/"
        }
      },
      "source": [
        "from sklearn.ensemble import RandomForestClassifier\n",
        "\n",
        "clf = RandomForestClassifier(random_state = 42)\n",
        "clf.fit(X_train, y_train)\n",
        "Y_pred = clf.predict(X_test)\n",
        "print(confusion_matrix(y_test, Y_pred))\n",
        "print(precision_score(y_test, Y_pred))\n",
        "print(recall_score(y_test, Y_pred))\n",
        "clf.score(X_train,y_train)\n",
        "print(classification_report(y_test, Y_pred))"
      ],
      "execution_count": 149,
      "outputs": [
        {
          "output_type": "stream",
          "text": [
            "[[464  10]\n",
            " [ 52  25]]\n",
            "0.7142857142857143\n",
            "0.3246753246753247\n",
            "              precision    recall  f1-score   support\n",
            "\n",
            "           0       0.90      0.98      0.94       474\n",
            "           1       0.71      0.32      0.45        77\n",
            "\n",
            "    accuracy                           0.89       551\n",
            "   macro avg       0.81      0.65      0.69       551\n",
            "weighted avg       0.87      0.89      0.87       551\n",
            "\n"
          ],
          "name": "stdout"
        }
      ]
    },
    {
      "cell_type": "code",
      "metadata": {
        "id": "UBjR9bViFLKd",
        "outputId": "5569591a-df78-4457-f002-ac0da79459a1",
        "colab": {
          "base_uri": "https://localhost:8080/"
        }
      },
      "source": [
        "from sklearn.utils import resample\n",
        "\n",
        "\n",
        "# separate minority and majority classes\n",
        "#data_val1 = data_val[:1400]\n",
        "not_survived = full_train[full_train.hospital_outcome==0]\n",
        "survived = full_train[full_train.hospital_outcome==1]\n",
        "\n",
        "# upsample minority\n",
        "survive_upsampled = resample(survived,\n",
        "                          replace=True, # sample with replacement\n",
        "                          n_samples=len(not_survived), # match number in majority class\n",
        "                          random_state=27) # reproducible results\n",
        "\n",
        "# combine majority and upsampled minority\n",
        "upsampled = pd.concat([not_survived, survive_upsampled])\n",
        "\n",
        "# check new class counts\n",
        "upsampled.hospital_outcome.value_counts()\n"
      ],
      "execution_count": 176,
      "outputs": [
        {
          "output_type": "execute_result",
          "data": {
            "text/plain": [
              "1    1103\n",
              "0    1103\n",
              "Name: hospital_outcome, dtype: int64"
            ]
          },
          "metadata": {
            "tags": []
          },
          "execution_count": 176
        }
      ]
    },
    {
      "cell_type": "code",
      "metadata": {
        "id": "hC20CCGDgN_w",
        "outputId": "6b60ccc3-ee53-4c24-e060-50b7efb9d25d",
        "colab": {
          "base_uri": "https://localhost:8080/"
        }
      },
      "source": [
        "from imblearn.over_sampling import SMOTE\n",
        "smote = SMOTE(random_state = 42)\n",
        "X_oversample, y_oversample = smote.fit_resample(X_train, y_train)"
      ],
      "execution_count": 177,
      "outputs": [
        {
          "output_type": "stream",
          "text": [
            "/usr/local/lib/python3.6/dist-packages/sklearn/utils/deprecation.py:87: FutureWarning: Function safe_indexing is deprecated; safe_indexing is deprecated in version 0.22 and will be removed in version 0.24.\n",
            "  warnings.warn(msg, category=FutureWarning)\n"
          ],
          "name": "stderr"
        }
      ]
    },
    {
      "cell_type": "code",
      "metadata": {
        "id": "ab8tx8fAgV1X",
        "outputId": "96b5183c-1411-41e5-bbdb-af0ef1f0f382",
        "colab": {
          "base_uri": "https://localhost:8080/"
        }
      },
      "source": [
        "from sklearn.ensemble import RandomForestClassifier\n",
        "\n",
        "clf4 = RandomForestClassifier(random_state = 42)\n",
        "clf4.fit(X_oversample, y_oversample)\n",
        "Y_pred = clf4.predict(X_test)\n",
        "print(confusion_matrix(y_test, Y_pred))\n",
        "print(precision_score(y_test, Y_pred))\n",
        "print(recall_score(y_test, Y_pred))\n",
        "clf.score(X_train,y_train)\n",
        "print(classification_report(y_test, Y_pred))"
      ],
      "execution_count": 158,
      "outputs": [
        {
          "output_type": "stream",
          "text": [
            "[[446  28]\n",
            " [ 40  37]]\n",
            "0.5692307692307692\n",
            "0.4805194805194805\n",
            "              precision    recall  f1-score   support\n",
            "\n",
            "           0       0.92      0.94      0.93       474\n",
            "           1       0.57      0.48      0.52        77\n",
            "\n",
            "    accuracy                           0.88       551\n",
            "   macro avg       0.74      0.71      0.73       551\n",
            "weighted avg       0.87      0.88      0.87       551\n",
            "\n"
          ],
          "name": "stdout"
        }
      ]
    },
    {
      "cell_type": "code",
      "metadata": {
        "id": "djbGPgWJFQS9",
        "outputId": "10620d5d-f4d9-4599-da9a-791db90819f4",
        "colab": {
          "base_uri": "https://localhost:8080/"
        }
      },
      "source": [
        "y1_train = upsampled.hospital_outcome\n",
        "X1_train = upsampled.drop('hospital_outcome', axis=1)\n",
        "\n",
        "from sklearn.ensemble import GradientBoostingClassifier\n",
        "\n",
        "clf = GradientBoostingClassifier(random_state=0)\n",
        "clf.fit(X1_train, y1_train)\n",
        "Y_pred = clf.predict(X_test)\n",
        "print(confusion_matrix(y_test, Y_pred))\n",
        "print(precision_score(y_test, Y_pred))\n",
        "print(recall_score(y_test, Y_pred))\n",
        "clf.score(X_train,y_train)\n",
        "print(classification_report(y_test, Y_pred))"
      ],
      "execution_count": 154,
      "outputs": [
        {
          "output_type": "stream",
          "text": [
            "[[398  76]\n",
            " [ 24  53]]\n",
            "0.4108527131782946\n",
            "0.6883116883116883\n",
            "              precision    recall  f1-score   support\n",
            "\n",
            "           0       0.94      0.84      0.89       474\n",
            "           1       0.41      0.69      0.51        77\n",
            "\n",
            "    accuracy                           0.82       551\n",
            "   macro avg       0.68      0.76      0.70       551\n",
            "weighted avg       0.87      0.82      0.84       551\n",
            "\n"
          ],
          "name": "stdout"
        }
      ]
    },
    {
      "cell_type": "code",
      "metadata": {
        "id": "1EG7nRcvFYQR",
        "outputId": "14ff3af2-1ad4-44df-8c00-112e9a682bcd",
        "colab": {
          "base_uri": "https://localhost:8080/"
        }
      },
      "source": [
        "from sklearn.ensemble import RandomForestClassifier\n",
        "\n",
        "clf = RandomForestClassifier(random_state = 42)\n",
        "clf.fit(X1_train, y1_train)\n",
        "Y_pred = clf.predict(X_test)\n",
        "print(confusion_matrix(y_test, Y_pred))\n",
        "print(precision_score(y_test, Y_pred))\n",
        "print(recall_score(y_test, Y_pred))\n",
        "clf.score(X_train,y_train)"
      ],
      "execution_count": 155,
      "outputs": [
        {
          "output_type": "stream",
          "text": [
            "[[451  23]\n",
            " [ 51  26]]\n",
            "0.5306122448979592\n",
            "0.33766233766233766\n"
          ],
          "name": "stdout"
        },
        {
          "output_type": "execute_result",
          "data": {
            "text/plain": [
              "0.9976617303195635"
            ]
          },
          "metadata": {
            "tags": []
          },
          "execution_count": 155
        }
      ]
    },
    {
      "cell_type": "markdown",
      "metadata": {
        "id": "dlGODrUcuz1r"
      },
      "source": [
        "##This is for hyperparameter tuning, cv requires about 20 mins, I have included the hyperparameters already\n"
      ]
    },
    {
      "cell_type": "code",
      "metadata": {
        "id": "KsbQlMcoiNH-",
        "outputId": "bfb45afb-6483-45a0-c9d5-4b395a84f585",
        "colab": {
          "base_uri": "https://localhost:8080/"
        }
      },
      "source": [
        "'''\n",
        "from sklearn.model_selection import RandomizedSearchCV\n",
        "clf = RandomForestClassifier(random_state = 42)\n",
        "from pprint import pprint\n",
        "# Number of trees in random forest\n",
        "n_estimators = [int(x) for x in np.linspace(start = 200, stop = 2000, num = 10)]\n",
        "# Number of features to consider at every split\n",
        "max_features = ['auto', 'sqrt']\n",
        "# Maximum number of levels in tree\n",
        "max_depth = [int(x) for x in np.linspace(10, 110, num = 11)]\n",
        "max_depth.append(None)\n",
        "# Minimum number of samples required to split a node\n",
        "min_samples_split = [2, 5, 10]\n",
        "# Minimum number of samples required at each leaf node\n",
        "min_samples_leaf = [1, 2, 4]\n",
        "# Method of selecting samples for training each tree\n",
        "bootstrap = [True, False]\n",
        "\n",
        "pprint(random_grid)\n",
        "\n",
        "# Random search of parameters, using 3 fold cross validation, \n",
        "# search across 100 different combinations, and use all available cores\n",
        "\n",
        "clf_random = RandomizedSearchCV(estimator = clf, param_distributions = random_grid, n_iter = 100, cv = 3, verbose=2, random_state=42, n_jobs = -1)\n",
        "clf_random.fit(X1_train, y1_train)\n",
        "print(clf_random.best_params_)\n",
        "'''"
      ],
      "execution_count": 93,
      "outputs": [
        {
          "output_type": "stream",
          "text": [
            "{'max_depth': [100, 140, 180, 220, 260, 300, 340, 380, 420, 460, 500, None],\n",
            " 'max_features': ['auto', 'sqrt'],\n",
            " 'n_estimators': [200, 400, 600, 800, 1000, 1200, 1400, 1600, 1800, 2000]}\n",
            "Fitting 3 folds for each of 100 candidates, totalling 300 fits\n"
          ],
          "name": "stdout"
        },
        {
          "output_type": "stream",
          "text": [
            "[Parallel(n_jobs=-1)]: Using backend LokyBackend with 2 concurrent workers.\n",
            "[Parallel(n_jobs=-1)]: Done  37 tasks      | elapsed:  2.0min\n",
            "[Parallel(n_jobs=-1)]: Done 158 tasks      | elapsed:  8.0min\n",
            "[Parallel(n_jobs=-1)]: Done 300 out of 300 | elapsed: 15.0min finished\n"
          ],
          "name": "stderr"
        },
        {
          "output_type": "stream",
          "text": [
            "{'n_estimators': 1400, 'max_features': 'auto', 'max_depth': 100}\n"
          ],
          "name": "stdout"
        }
      ]
    },
    {
      "cell_type": "code",
      "metadata": {
        "id": "4HMK94dXi_mF",
        "outputId": "ef3c03c0-08c0-4481-e629-84f760bd12b8",
        "colab": {
          "base_uri": "https://localhost:8080/"
        }
      },
      "source": [
        "from sklearn.model_selection import RandomizedSearchCV\n",
        "\n",
        "clf = RandomForestClassifier(random_state = 42)\n",
        "from pprint import pprint\n",
        "# Number of trees in random forest\n",
        "n_estimators = [int(x) for x in np.linspace(start = 200, stop = 2000, num = 10)]\n",
        "# Number of features to consider at every split\n",
        "max_features = ['auto', 'sqrt']\n",
        "# Maximum number of levels in tree\n",
        "max_depth = [int(x) for x in np.linspace(10, 110, num = 11)]\n",
        "max_depth.append(None)\n",
        "# Minimum number of samples required to split a node\n",
        "min_samples_split = [2, 5, 10]\n",
        "# Minimum number of samples required at each leaf node\n",
        "min_samples_leaf = [1, 2, 4]\n",
        "# Method of selecting samples for training each tree\n",
        "bootstrap = [True, False]\n",
        "\n",
        "pprint(random_grid)\n",
        "\n",
        "# Random search of parameters, using 3 fold cross validation, \n",
        "# search across 100 different combinations, and use all available cores\n",
        "\n",
        "clf_random = RandomizedSearchCV(estimator = clf, param_distributions = random_grid, n_iter = 100, cv = 3, verbose=2, random_state=42, n_jobs = -1)\n",
        "clf_random.fit(X_oversample, y_oversample)\n",
        "print(clf_random.best_params_)"
      ],
      "execution_count": 94,
      "outputs": [
        {
          "output_type": "stream",
          "text": [
            "{'max_depth': [100, 140, 180, 220, 260, 300, 340, 380, 420, 460, 500, None],\n",
            " 'max_features': ['auto', 'sqrt'],\n",
            " 'n_estimators': [200, 400, 600, 800, 1000, 1200, 1400, 1600, 1800, 2000]}\n",
            "Fitting 3 folds for each of 100 candidates, totalling 300 fits\n"
          ],
          "name": "stdout"
        },
        {
          "output_type": "stream",
          "text": [
            "[Parallel(n_jobs=-1)]: Using backend LokyBackend with 2 concurrent workers.\n",
            "[Parallel(n_jobs=-1)]: Done  37 tasks      | elapsed:  2.3min\n",
            "[Parallel(n_jobs=-1)]: Done 158 tasks      | elapsed:  9.5min\n",
            "[Parallel(n_jobs=-1)]: Done 300 out of 300 | elapsed: 17.8min finished\n"
          ],
          "name": "stderr"
        },
        {
          "output_type": "stream",
          "text": [
            "{'n_estimators': 2000, 'max_features': 'auto', 'max_depth': 300}\n"
          ],
          "name": "stdout"
        }
      ]
    },
    {
      "cell_type": "code",
      "metadata": {
        "id": "MqxTKj4V3f19",
        "outputId": "6b9ca271-3482-4465-fb34-c4c9eb4d2fa0",
        "colab": {
          "base_uri": "https://localhost:8080/"
        }
      },
      "source": [
        "from sklearn.model_selection import GridSearchCV\n",
        "param_grid = {\n",
        "    'bootstrap': [True],\n",
        "    'max_depth': [80, 90, 100, 110],\n",
        "    'max_features': [2, 3],\n",
        "    'min_samples_leaf': [3, 4, 5],\n",
        "    'min_samples_split': [8, 10, 12],\n",
        "    'n_estimators': [100, 200, 300, 1000]\n",
        "}\n",
        "\n",
        "clf_grid = GridSearchCV(estimator = clf, param_grid = param_grid, cv = 3, verbose=2, n_jobs = -1)\n",
        "clf_grid.fit(X_oversample, y_oversample)\n",
        "print(clf_grid.best_params_)"
      ],
      "execution_count": 171,
      "outputs": [
        {
          "output_type": "stream",
          "text": [
            "Fitting 3 folds for each of 288 candidates, totalling 864 fits\n"
          ],
          "name": "stdout"
        },
        {
          "output_type": "stream",
          "text": [
            "[Parallel(n_jobs=-1)]: Using backend LokyBackend with 2 concurrent workers.\n",
            "[Parallel(n_jobs=-1)]: Done  37 tasks      | elapsed:   29.9s\n",
            "[Parallel(n_jobs=-1)]: Done 158 tasks      | elapsed:  2.2min\n",
            "[Parallel(n_jobs=-1)]: Done 361 tasks      | elapsed:  5.1min\n",
            "[Parallel(n_jobs=-1)]: Done 644 tasks      | elapsed:  9.3min\n",
            "[Parallel(n_jobs=-1)]: Done 864 out of 864 | elapsed: 12.5min finished\n"
          ],
          "name": "stderr"
        },
        {
          "output_type": "stream",
          "text": [
            "{'bootstrap': True, 'max_depth': 80, 'max_features': 3, 'min_samples_leaf': 3, 'min_samples_split': 8, 'n_estimators': 200}\n"
          ],
          "name": "stdout"
        }
      ]
    },
    {
      "cell_type": "code",
      "metadata": {
        "id": "DEzY5_Rf4OB1",
        "outputId": "d571d103-732f-4462-f60a-81569a0f8787",
        "colab": {
          "base_uri": "https://localhost:8080/"
        }
      },
      "source": [
        "clf5 = RandomForestClassifier(n_estimators= 200, max_features= 3, max_depth= 80,min_samples_leaf=3,min_samples_split=8,random_state = 42)\n",
        "clf5.fit(X_oversample, y_oversample)\n",
        "Y_pred = clf5.predict(X_test)\n",
        "print(confusion_matrix(y_test, Y_pred))\n",
        "print(precision_score(y_test, Y_pred))\n",
        "print(recall_score(y_test, Y_pred))\n",
        "print(classification_report(y_test, Y_pred))"
      ],
      "execution_count": 172,
      "outputs": [
        {
          "output_type": "stream",
          "text": [
            "[[434  40]\n",
            " [ 34  43]]\n",
            "0.5180722891566265\n",
            "0.5584415584415584\n",
            "              precision    recall  f1-score   support\n",
            "\n",
            "           0       0.93      0.92      0.92       474\n",
            "           1       0.52      0.56      0.54        77\n",
            "\n",
            "    accuracy                           0.87       551\n",
            "   macro avg       0.72      0.74      0.73       551\n",
            "weighted avg       0.87      0.87      0.87       551\n",
            "\n"
          ],
          "name": "stdout"
        }
      ]
    },
    {
      "cell_type": "code",
      "metadata": {
        "id": "FS44ek3oogER",
        "outputId": "6cc6e229-2fcd-4e20-d851-8eb5dd949128",
        "colab": {
          "base_uri": "https://localhost:8080/"
        }
      },
      "source": [
        "clf2 = RandomForestClassifier(n_estimators= 2000, max_features= 'auto', max_depth= 300,random_state = 42)\n",
        "clf2.fit(X_oversample, y_oversample)\n",
        "Y_pred = clf2.predict(X_test)\n",
        "print(confusion_matrix(y_test, Y_pred))\n",
        "print(precision_score(y_test, Y_pred))\n",
        "print(recall_score(y_test, Y_pred))\n",
        "print(classification_report(y_test, Y_pred))"
      ],
      "execution_count": 156,
      "outputs": [
        {
          "output_type": "stream",
          "text": [
            "[[440  34]\n",
            " [ 40  37]]\n",
            "0.5211267605633803\n",
            "0.4805194805194805\n",
            "              precision    recall  f1-score   support\n",
            "\n",
            "           0       0.92      0.93      0.92       474\n",
            "           1       0.52      0.48      0.50        77\n",
            "\n",
            "    accuracy                           0.87       551\n",
            "   macro avg       0.72      0.70      0.71       551\n",
            "weighted avg       0.86      0.87      0.86       551\n",
            "\n"
          ],
          "name": "stdout"
        }
      ]
    },
    {
      "cell_type": "code",
      "metadata": {
        "id": "h6qbyG2lqGDu",
        "outputId": "40823991-2ee6-4285-a430-7a62551f2180",
        "colab": {
          "base_uri": "https://localhost:8080/"
        }
      },
      "source": [
        "from sklearn.ensemble import RandomForestClassifier\n",
        "\n",
        "clf1 = RandomForestClassifier(n_estimators= 1400, max_features= 'auto', max_depth= 100,random_state = 42)\n",
        "clf1.fit(X1_train, y1_train)\n",
        "Y_pred = clf1.predict(X_test)\n",
        "print(confusion_matrix(y_test, Y_pred))\n",
        "print(precision_score(y_test, Y_pred))\n",
        "print(recall_score(y_test, Y_pred))\n",
        "print(classification_report(y_test, Y_pred))"
      ],
      "execution_count": 157,
      "outputs": [
        {
          "output_type": "stream",
          "text": [
            "[[453  21]\n",
            " [ 47  30]]\n",
            "0.5882352941176471\n",
            "0.38961038961038963\n",
            "              precision    recall  f1-score   support\n",
            "\n",
            "           0       0.91      0.96      0.93       474\n",
            "           1       0.59      0.39      0.47        77\n",
            "\n",
            "    accuracy                           0.88       551\n",
            "   macro avg       0.75      0.67      0.70       551\n",
            "weighted avg       0.86      0.88      0.87       551\n",
            "\n"
          ],
          "name": "stdout"
        }
      ]
    },
    {
      "cell_type": "markdown",
      "metadata": {
        "id": "XXMhIaext5oG"
      },
      "source": [
        "##This is the Final Output CSV"
      ]
    },
    {
      "cell_type": "code",
      "metadata": {
        "id": "nJ3h4tvnsJ-K",
        "outputId": "f0f79f8c-82b1-423e-8927-f6ec5e3b5256",
        "colab": {
          "base_uri": "https://localhost:8080/",
          "height": 419
        }
      },
      "source": [
        "Y_final = clf5.predict(final_data)\n",
        "answer = pd.DataFrame(columns = ['PATIENT ID','hospital_outcome'])\n",
        "answer['PATIENT ID'] = final_id\n",
        "answer['hospital_outcome'] = Y_final\n",
        "answer"
      ],
      "execution_count": 173,
      "outputs": [
        {
          "output_type": "execute_result",
          "data": {
            "text/html": [
              "<div>\n",
              "<style scoped>\n",
              "    .dataframe tbody tr th:only-of-type {\n",
              "        vertical-align: middle;\n",
              "    }\n",
              "\n",
              "    .dataframe tbody tr th {\n",
              "        vertical-align: top;\n",
              "    }\n",
              "\n",
              "    .dataframe thead th {\n",
              "        text-align: right;\n",
              "    }\n",
              "</style>\n",
              "<table border=\"1\" class=\"dataframe\">\n",
              "  <thead>\n",
              "    <tr style=\"text-align: right;\">\n",
              "      <th></th>\n",
              "      <th>PATIENT ID</th>\n",
              "      <th>hospital_outcome</th>\n",
              "    </tr>\n",
              "  </thead>\n",
              "  <tbody>\n",
              "    <tr>\n",
              "      <th>0</th>\n",
              "      <td>1636</td>\n",
              "      <td>0</td>\n",
              "    </tr>\n",
              "    <tr>\n",
              "      <th>1</th>\n",
              "      <td>734</td>\n",
              "      <td>1</td>\n",
              "    </tr>\n",
              "    <tr>\n",
              "      <th>2</th>\n",
              "      <td>1045</td>\n",
              "      <td>1</td>\n",
              "    </tr>\n",
              "    <tr>\n",
              "      <th>3</th>\n",
              "      <td>1728</td>\n",
              "      <td>0</td>\n",
              "    </tr>\n",
              "    <tr>\n",
              "      <th>4</th>\n",
              "      <td>1267</td>\n",
              "      <td>0</td>\n",
              "    </tr>\n",
              "    <tr>\n",
              "      <th>...</th>\n",
              "      <td>...</td>\n",
              "      <td>...</td>\n",
              "    </tr>\n",
              "    <tr>\n",
              "      <th>607</th>\n",
              "      <td>1735</td>\n",
              "      <td>1</td>\n",
              "    </tr>\n",
              "    <tr>\n",
              "      <th>608</th>\n",
              "      <td>1807</td>\n",
              "      <td>1</td>\n",
              "    </tr>\n",
              "    <tr>\n",
              "      <th>609</th>\n",
              "      <td>1464</td>\n",
              "      <td>0</td>\n",
              "    </tr>\n",
              "    <tr>\n",
              "      <th>610</th>\n",
              "      <td>595</td>\n",
              "      <td>0</td>\n",
              "    </tr>\n",
              "    <tr>\n",
              "      <th>611</th>\n",
              "      <td>397</td>\n",
              "      <td>0</td>\n",
              "    </tr>\n",
              "  </tbody>\n",
              "</table>\n",
              "<p>612 rows × 2 columns</p>\n",
              "</div>"
            ],
            "text/plain": [
              "     PATIENT ID  hospital_outcome\n",
              "0          1636                 0\n",
              "1           734                 1\n",
              "2          1045                 1\n",
              "3          1728                 0\n",
              "4          1267                 0\n",
              "..          ...               ...\n",
              "607        1735                 1\n",
              "608        1807                 1\n",
              "609        1464                 0\n",
              "610         595                 0\n",
              "611         397                 0\n",
              "\n",
              "[612 rows x 2 columns]"
            ]
          },
          "metadata": {
            "tags": []
          },
          "execution_count": 173
        }
      ]
    },
    {
      "cell_type": "code",
      "metadata": {
        "id": "p3qIHxGsbZUy",
        "outputId": "fbbacc37-f96b-4792-db87-246fecc4c26f",
        "colab": {
          "base_uri": "https://localhost:8080/"
        }
      },
      "source": [
        "answer.hospital_outcome.value_counts()"
      ],
      "execution_count": 174,
      "outputs": [
        {
          "output_type": "execute_result",
          "data": {
            "text/plain": [
              "0    542\n",
              "1     70\n",
              "Name: hospital_outcome, dtype: int64"
            ]
          },
          "metadata": {
            "tags": []
          },
          "execution_count": 174
        }
      ]
    },
    {
      "cell_type": "code",
      "metadata": {
        "id": "bM9wh58atk06"
      },
      "source": [
        "answer.to_csv(r'106022113.csv')"
      ],
      "execution_count": 175,
      "outputs": []
    },
    {
      "cell_type": "code",
      "metadata": {
        "id": "crlRWzIZ27C0"
      },
      "source": [
        ""
      ],
      "execution_count": null,
      "outputs": []
    }
  ]
}