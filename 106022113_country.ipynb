{
  "nbformat": 4,
  "nbformat_minor": 0,
  "metadata": {
    "colab": {
      "name": "106022113_HW1.ipynb",
      "provenance": []
    },
    "kernelspec": {
      "name": "python3",
      "display_name": "Python 3"
    }
  },
  "cells": [
    {
      "cell_type": "code",
      "metadata": {
        "id": "48jHH_Yf6LEc"
      },
      "source": [
        "import pandas as pd\n",
        "import matplotlib.pyplot as plt\n",
        "import numpy as np\n",
        "from sklearn.linear_model import LinearRegression\n",
        "from sklearn.svm import SVR\n",
        "from sklearn.preprocessing import StandardScaler\n",
        "from pprint import pprint\n",
        "%matplotlib inline\n",
        "data_path = \"covid10_08\"\n",
        "data = pd.read_csv(data_path)\n",
        "#validation = pd.read_csv(\"covid10_01\")\n",
        "Countries = [\"Russia\",\"Greece\",\"India\",\"United_States_of_America\",\"Turkey\"]"
      ],
      "execution_count": 4,
      "outputs": []
    },
    {
      "cell_type": "code",
      "metadata": {
        "id": "nHGQfUKf6ULU"
      },
      "source": [
        "def MAPE(val,y_pred):\n",
        "  score = 0\n",
        "  for i in range(0,7):\n",
        "    if val[i] != 0:\n",
        "      score += abs((val[i]-y_pred[i])/val[i])\n",
        "  return ((1/7)*score)\n",
        "def Average(lst): \n",
        "    new_lst = []\n",
        "    for i in range(0,len(lst)-1):\n",
        "      if lst[i]<2:\n",
        "        new_lst.append(lst[i])\n",
        "    return sum(new_lst) / len(new_lst) \n",
        "def average(lst): \n",
        "    return sum(lst) / len(lst) "
      ],
      "execution_count": 5,
      "outputs": []
    },
    {
      "cell_type": "code",
      "metadata": {
        "id": "cvWccaKo6fTM",
        "outputId": "56912b47-5307-4725-ba26-af5685c29b53",
        "colab": {
          "base_uri": "https://localhost:8080/",
          "height": 102
        }
      },
      "source": [
        "data = pd.read_csv(data_path)\n",
        "import warnings\n",
        "warnings.filterwarnings('ignore')\n",
        "best_days_list = []\n",
        "for i in range(0,len(Countries)):\n",
        "  MAPE_score = []\n",
        "  for j in range(15,150):\n",
        "    pred_days = j\n",
        "    if (data[data['countriesAndTerritories']== Countries[i]]['cases'].count() > 150):\n",
        "      #pred_days = 53\n",
        "      test_days = 7\n",
        "      train_days = pred_days - test_days\n",
        "      #final = validation[validation['countriesAndTerritories']=='Uruguay']['cases'][ : 5][::-1]\n",
        "      reverse_data = data[data['countriesAndTerritories']==Countries[i]].iloc[::-1]\n",
        "      train_data = reverse_data[reverse_data['countriesAndTerritories']==Countries[i]][-1*(pred_days):]\n",
        "      df = train_data[train_data['countriesAndTerritories']==Countries[i]]['cases'][ : -1*(test_days)]\n",
        "      #df = train_data[train_data['countriesAndTerritories']==Countries[i]]['cases']\n",
        "      val = train_data[train_data['countriesAndTerritories']==Countries[i]]['cases'][-1*(test_days):]\n",
        "      df = df.to_numpy()\n",
        "      val = val.to_numpy()\n",
        "      y = df.reshape(-1,1)\n",
        "      x = np.reshape(list(range(1,pred_days-test_days+1)), (-1,1))\n",
        "      sc_X = StandardScaler()\n",
        "      sc_y = StandardScaler()\n",
        "      X = sc_X.fit_transform(x)\n",
        "      Y = sc_y.fit_transform(y)\n",
        "      regressor = SVR(kernel='rbf')\n",
        "      regressor.fit(X,Y)\n",
        "      X_ans = np.reshape(list(range(pred_days-6,pred_days+1)), (-1,1))\n",
        "      y_pred = sc_y.inverse_transform((regressor.predict (sc_X.transform(X_ans))))\n",
        "      for k in range(0,7):\n",
        "        y_pred[k] = round(y_pred[k])\n",
        "      #answers[Countries[i]] = y_pred\n",
        "      #print(Countries[i],y_pred[:7])\n",
        "      MAPE_score.append(MAPE(val,y_pred))\n",
        "    else:\n",
        "      MAPE_score = [10,10,10,10,10] \n",
        "  idx = np.argsort(MAPE_score)[:5]\n",
        "  print(Countries[i],\":\",idx[:5],\"Mape score:\", MAPE_score[idx[0]],MAPE_score[idx[1]],MAPE_score[idx[2]])\n",
        "  best_days_list.append(idx[0])"
      ],
      "execution_count": 6,
      "outputs": [
        {
          "output_type": "stream",
          "text": [
            "Russia : [38 31 37 39 30] Mape score: 0.20069901007637808 0.20137014474592022 0.20248964325224764\n",
            "Greece : [ 1  0  4  3 33] Mape score: 0.22168301947005506 0.22168728206721336 0.22237506439553756\n",
            "India : [82 79 78 81 77] Mape score: 0.05360690824976466 0.05375484211405808 0.053866296352987106\n",
            "United_States_of_America : [ 2  3 54 55 59] Mape score: 0.1119786527781404 0.11422764703171136 0.11453259458970652\n",
            "Turkey : [12 10 15 14 11] Mape score: 0.023260941622140638 0.02406197597094329 0.02478529726168633\n"
          ],
          "name": "stdout"
        }
      ]
    },
    {
      "cell_type": "code",
      "metadata": {
        "id": "Ij0owfs86-RT"
      },
      "source": [
        "import warnings\n",
        "data = pd.read_csv(data_path)\n",
        "warnings.filterwarnings('ignore')\n",
        "Rows = [\"10/9\",\"10/10\",\"10/11\",\"10/12\",\"10/13\",\"10/14\",\"10/15\"]\n",
        "answers = pd.DataFrame(index=Rows,columns=Countries)\n",
        "MAPE_score = []\n",
        "for i in range(0,len(Countries)):\n",
        "  pred_days = best_days_list[i]+10\n",
        "  test_days = 0\n",
        "  train_days = pred_days - test_days\n",
        "  if (data[data['countriesAndTerritories']== Countries[i]]['cases'].count() < 150):\n",
        "    pred_days = data[data['countriesAndTerritories']==Countries[i]]['cases'].count()\n",
        "  #final = validation[validation['countriesAndTerritories']=='Uruguay']['cases'][ : 5][::-1]\n",
        "  reverse_data = data[data['countriesAndTerritories']==Countries[i]].iloc[::-1]\n",
        "  train_data = reverse_data[reverse_data['countriesAndTerritories']==Countries[i]][-1*(pred_days):]\n",
        "  #df = train_data[train_data['countriesAndTerritories']==Countries[i]]['cases'][ : -1*(test_days)]\n",
        "  df = train_data[train_data['countriesAndTerritories']==Countries[i]]['cases']\n",
        "  val = train_data[train_data['countriesAndTerritories']==Countries[i]]['cases'][-1*(test_days):]\n",
        "  df = df.to_numpy()\n",
        "  val = val.to_numpy()\n",
        "  y = df.reshape(-1,1)\n",
        "  x = np.reshape(list(range(1,pred_days-test_days+1)), (-1,1))\n",
        "  sc_X = StandardScaler()\n",
        "  sc_y = StandardScaler()\n",
        "  X = sc_X.fit_transform(x)\n",
        "  Y = sc_y.fit_transform(y)\n",
        "  regressor = SVR(kernel='rbf')\n",
        "  regressor.fit(X,Y)\n",
        "  X_ans = np.reshape(list(range(pred_days-6,pred_days+1)), (-1,1))\n",
        "  y_pred = sc_y.inverse_transform((regressor.predict (sc_X.transform(X_ans))))\n",
        "  for j in range(0,7):\n",
        "    y_pred[j] = round(y_pred[j])\n",
        "  answers[Countries[i]] = y_pred\n",
        "  #print(Countries[i],y_pred[:7])\n",
        "  #MAPE_score.append(MAPE(val,y_pred))\n",
        "#avg_score = Average(MAPE_score)\n"
      ],
      "execution_count": 11,
      "outputs": []
    },
    {
      "cell_type": "code",
      "metadata": {
        "id": "UbBg0L157iex",
        "outputId": "924bd820-ad94-4957-c855-b780f8919a9d",
        "colab": {
          "base_uri": "https://localhost:8080/",
          "height": 266
        }
      },
      "source": [
        "#print(avg_score)\n",
        "for i in range(len(Countries)):\n",
        "  for j in range(7):\n",
        "    if answers[Countries[i]][j]<0:\n",
        "      print(Countries[i])\n",
        "      answers[Countries[i]][j] = 0\n",
        "answers.to_csv(r\"106022113_HW1.csv\")\n",
        "answers##Final Answer"
      ],
      "execution_count": 12,
      "outputs": [
        {
          "output_type": "execute_result",
          "data": {
            "text/html": [
              "<div>\n",
              "<style scoped>\n",
              "    .dataframe tbody tr th:only-of-type {\n",
              "        vertical-align: middle;\n",
              "    }\n",
              "\n",
              "    .dataframe tbody tr th {\n",
              "        vertical-align: top;\n",
              "    }\n",
              "\n",
              "    .dataframe thead th {\n",
              "        text-align: right;\n",
              "    }\n",
              "</style>\n",
              "<table border=\"1\" class=\"dataframe\">\n",
              "  <thead>\n",
              "    <tr style=\"text-align: right;\">\n",
              "      <th></th>\n",
              "      <th>Russia</th>\n",
              "      <th>Greece</th>\n",
              "      <th>India</th>\n",
              "      <th>United_States_of_America</th>\n",
              "      <th>Turkey</th>\n",
              "    </tr>\n",
              "  </thead>\n",
              "  <tbody>\n",
              "    <tr>\n",
              "      <th>10/9</th>\n",
              "      <td>9187.0</td>\n",
              "      <td>366.0</td>\n",
              "      <td>79475.0</td>\n",
              "      <td>44609.0</td>\n",
              "      <td>1415.0</td>\n",
              "    </tr>\n",
              "    <tr>\n",
              "      <th>10/10</th>\n",
              "      <td>9557.0</td>\n",
              "      <td>337.0</td>\n",
              "      <td>78346.0</td>\n",
              "      <td>45450.0</td>\n",
              "      <td>1436.0</td>\n",
              "    </tr>\n",
              "    <tr>\n",
              "      <th>10/11</th>\n",
              "      <td>9906.0</td>\n",
              "      <td>298.0</td>\n",
              "      <td>77232.0</td>\n",
              "      <td>44873.0</td>\n",
              "      <td>1465.0</td>\n",
              "    </tr>\n",
              "    <tr>\n",
              "      <th>10/12</th>\n",
              "      <td>10225.0</td>\n",
              "      <td>283.0</td>\n",
              "      <td>76140.0</td>\n",
              "      <td>43678.0</td>\n",
              "      <td>1496.0</td>\n",
              "    </tr>\n",
              "    <tr>\n",
              "      <th>10/13</th>\n",
              "      <td>10504.0</td>\n",
              "      <td>308.0</td>\n",
              "      <td>75076.0</td>\n",
              "      <td>43072.0</td>\n",
              "      <td>1526.0</td>\n",
              "    </tr>\n",
              "    <tr>\n",
              "      <th>10/14</th>\n",
              "      <td>10736.0</td>\n",
              "      <td>356.0</td>\n",
              "      <td>74046.0</td>\n",
              "      <td>43632.0</td>\n",
              "      <td>1550.0</td>\n",
              "    </tr>\n",
              "    <tr>\n",
              "      <th>10/15</th>\n",
              "      <td>10915.0</td>\n",
              "      <td>395.0</td>\n",
              "      <td>73053.0</td>\n",
              "      <td>44895.0</td>\n",
              "      <td>1568.0</td>\n",
              "    </tr>\n",
              "  </tbody>\n",
              "</table>\n",
              "</div>"
            ],
            "text/plain": [
              "        Russia  Greece    India  United_States_of_America  Turkey\n",
              "10/9    9187.0   366.0  79475.0                   44609.0  1415.0\n",
              "10/10   9557.0   337.0  78346.0                   45450.0  1436.0\n",
              "10/11   9906.0   298.0  77232.0                   44873.0  1465.0\n",
              "10/12  10225.0   283.0  76140.0                   43678.0  1496.0\n",
              "10/13  10504.0   308.0  75076.0                   43072.0  1526.0\n",
              "10/14  10736.0   356.0  74046.0                   43632.0  1550.0\n",
              "10/15  10915.0   395.0  73053.0                   44895.0  1568.0"
            ]
          },
          "metadata": {
            "tags": []
          },
          "execution_count": 12
        }
      ]
    },
    {
      "cell_type": "code",
      "metadata": {
        "id": "WhPxnp7T7lMV"
      },
      "source": [
        ""
      ],
      "execution_count": null,
      "outputs": []
    }
  ]
}